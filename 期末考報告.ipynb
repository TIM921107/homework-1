{
  "nbformat": 4,
  "nbformat_minor": 0,
  "metadata": {
    "colab": {
      "provenance": [],
      "authorship_tag": "ABX9TyO1MA8JjLSXFnUAR5BylpTg",
      "include_colab_link": true
    },
    "kernelspec": {
      "name": "python3",
      "display_name": "Python 3"
    },
    "language_info": {
      "name": "python"
    }
  },
  "cells": [
    {
      "cell_type": "markdown",
      "metadata": {
        "id": "view-in-github",
        "colab_type": "text"
      },
      "source": [
        "<a href=\"https://colab.research.google.com/github/TIM921107/homework-1/blob/main/%E6%9C%9F%E6%9C%AB%E8%80%83%E5%A0%B1%E5%91%8A.ipynb\" target=\"_parent\"><img src=\"https://colab.research.google.com/assets/colab-badge.svg\" alt=\"Open In Colab\"/></a>"
      ]
    },
    {
      "cell_type": "code",
      "execution_count": null,
      "metadata": {
        "colab": {
          "base_uri": "https://localhost:8080/",
          "height": 382
        },
        "id": "ULdk9-7pfajN",
        "outputId": "77e3d290-de8f-4512-9c61-bd2c59f1c30f"
      },
      "outputs": [
        {
          "output_type": "error",
          "ename": "NameError",
          "evalue": "ignored",
          "traceback": [
            "\u001b[0;31m---------------------------------------------------------------------------\u001b[0m",
            "\u001b[0;31mNameError\u001b[0m                                 Traceback (most recent call last)",
            "\u001b[0;32m<ipython-input-6-15c58389b26e>\u001b[0m in \u001b[0;36m<cell line: 59>\u001b[0;34m()\u001b[0m\n\u001b[1;32m     57\u001b[0m \u001b[0mstart_city\u001b[0m \u001b[0;34m=\u001b[0m \u001b[0mcities\u001b[0m\u001b[0;34m[\u001b[0m\u001b[0;36m0\u001b[0m\u001b[0;34m]\u001b[0m\u001b[0;34m\u001b[0m\u001b[0;34m\u001b[0m\u001b[0m\n\u001b[1;32m     58\u001b[0m \u001b[0;34m\u001b[0m\u001b[0m\n\u001b[0;32m---> 59\u001b[0;31m \u001b[0mtravel_plan\u001b[0m\u001b[0;34m,\u001b[0m \u001b[0mtotal_cost\u001b[0m \u001b[0;34m=\u001b[0m \u001b[0mfind_cheapest_travel_plan\u001b[0m\u001b[0;34m(\u001b[0m\u001b[0mstart_city\u001b[0m\u001b[0;34m,\u001b[0m \u001b[0mcities\u001b[0m\u001b[0;34m)\u001b[0m\u001b[0;34m\u001b[0m\u001b[0;34m\u001b[0m\u001b[0m\n\u001b[0m\u001b[1;32m     60\u001b[0m \u001b[0;34m\u001b[0m\u001b[0m\n\u001b[1;32m     61\u001b[0m \u001b[0mprint\u001b[0m\u001b[0;34m(\u001b[0m\u001b[0;34m\"Travel Plan:\"\u001b[0m\u001b[0;34m)\u001b[0m\u001b[0;34m\u001b[0m\u001b[0;34m\u001b[0m\u001b[0m\n",
            "\u001b[0;32m<ipython-input-6-15c58389b26e>\u001b[0m in \u001b[0;36mfind_cheapest_travel_plan\u001b[0;34m(start_city, cities)\u001b[0m\n\u001b[1;32m     29\u001b[0m \u001b[0;34m\u001b[0m\u001b[0m\n\u001b[1;32m     30\u001b[0m         \u001b[0;32mwhile\u001b[0m \u001b[0mremaining_cities\u001b[0m\u001b[0;34m:\u001b[0m\u001b[0;34m\u001b[0m\u001b[0;34m\u001b[0m\u001b[0m\n\u001b[0;32m---> 31\u001b[0;31m             \u001b[0mnext_city\u001b[0m \u001b[0;34m=\u001b[0m \u001b[0mmin\u001b[0m\u001b[0;34m(\u001b[0m\u001b[0mremaining_cities\u001b[0m\u001b[0;34m,\u001b[0m \u001b[0mkey\u001b[0m\u001b[0;34m=\u001b[0m\u001b[0;32mlambda\u001b[0m \u001b[0mcity\u001b[0m\u001b[0;34m:\u001b[0m \u001b[0mcalculate_distance\u001b[0m\u001b[0;34m(\u001b[0m\u001b[0mcurrent_route\u001b[0m\u001b[0;34m[\u001b[0m\u001b[0;34m-\u001b[0m\u001b[0;36m1\u001b[0m\u001b[0;34m]\u001b[0m\u001b[0;34m,\u001b[0m \u001b[0mcity\u001b[0m\u001b[0;34m)\u001b[0m\u001b[0;34m)\u001b[0m\u001b[0;34m\u001b[0m\u001b[0;34m\u001b[0m\u001b[0m\n\u001b[0m\u001b[1;32m     32\u001b[0m             \u001b[0mcurrent_route\u001b[0m\u001b[0;34m.\u001b[0m\u001b[0mappend\u001b[0m\u001b[0;34m(\u001b[0m\u001b[0mnext_city\u001b[0m\u001b[0;34m)\u001b[0m\u001b[0;34m\u001b[0m\u001b[0;34m\u001b[0m\u001b[0m\n\u001b[1;32m     33\u001b[0m             \u001b[0mremaining_cities\u001b[0m\u001b[0;34m.\u001b[0m\u001b[0mremove\u001b[0m\u001b[0;34m(\u001b[0m\u001b[0mnext_city\u001b[0m\u001b[0;34m)\u001b[0m\u001b[0;34m\u001b[0m\u001b[0;34m\u001b[0m\u001b[0m\n",
            "\u001b[0;32m<ipython-input-6-15c58389b26e>\u001b[0m in \u001b[0;36m<lambda>\u001b[0;34m(city)\u001b[0m\n\u001b[1;32m     29\u001b[0m \u001b[0;34m\u001b[0m\u001b[0m\n\u001b[1;32m     30\u001b[0m         \u001b[0;32mwhile\u001b[0m \u001b[0mremaining_cities\u001b[0m\u001b[0;34m:\u001b[0m\u001b[0;34m\u001b[0m\u001b[0;34m\u001b[0m\u001b[0m\n\u001b[0;32m---> 31\u001b[0;31m             \u001b[0mnext_city\u001b[0m \u001b[0;34m=\u001b[0m \u001b[0mmin\u001b[0m\u001b[0;34m(\u001b[0m\u001b[0mremaining_cities\u001b[0m\u001b[0;34m,\u001b[0m \u001b[0mkey\u001b[0m\u001b[0;34m=\u001b[0m\u001b[0;32mlambda\u001b[0m \u001b[0mcity\u001b[0m\u001b[0;34m:\u001b[0m \u001b[0mcalculate_distance\u001b[0m\u001b[0;34m(\u001b[0m\u001b[0mcurrent_route\u001b[0m\u001b[0;34m[\u001b[0m\u001b[0;34m-\u001b[0m\u001b[0;36m1\u001b[0m\u001b[0;34m]\u001b[0m\u001b[0;34m,\u001b[0m \u001b[0mcity\u001b[0m\u001b[0;34m)\u001b[0m\u001b[0;34m)\u001b[0m\u001b[0;34m\u001b[0m\u001b[0;34m\u001b[0m\u001b[0m\n\u001b[0m\u001b[1;32m     32\u001b[0m             \u001b[0mcurrent_route\u001b[0m\u001b[0;34m.\u001b[0m\u001b[0mappend\u001b[0m\u001b[0;34m(\u001b[0m\u001b[0mnext_city\u001b[0m\u001b[0;34m)\u001b[0m\u001b[0;34m\u001b[0m\u001b[0;34m\u001b[0m\u001b[0m\n\u001b[1;32m     33\u001b[0m             \u001b[0mremaining_cities\u001b[0m\u001b[0;34m.\u001b[0m\u001b[0mremove\u001b[0m\u001b[0;34m(\u001b[0m\u001b[0mnext_city\u001b[0m\u001b[0;34m)\u001b[0m\u001b[0;34m\u001b[0m\u001b[0;34m\u001b[0m\u001b[0m\n",
            "\u001b[0;31mNameError\u001b[0m: name 'calculate_distance' is not defined"
          ]
        }
      ],
      "source": [
        "import math\n",
        "\n",
        "class City:\n",
        "    def __init__(self, name, x, y, accommodation_cost):\n",
        "        self.name = name\n",
        "        self.x = x\n",
        "        self.y = y\n",
        "        self.accommodation_cost = accommodation_cost\n",
        "\n",
        "    def calculate_discounted_cost(self, previous_city):\n",
        "        if previous_city is None:\n",
        "            return self.accommodation_cost\n",
        "        else:\n",
        "            discount = 0.8 if previous_city.name in ['C', 'G'] and self.name == 'A' else 0.8\n",
        "            return self.accommodation_cost * discount\n",
        "\n",
        "    def calculate_distance(self, other_city):\n",
        "        return math.sqrt((self.x - other_city.x) ** 2 + (self.y - other_city.y) ** 2)\n",
        "\n",
        "# 尋找最便宜旅遊方案\n",
        "def find_cheapest_travel_plan(start_city, cities):\n",
        "    cheapest_cost = float('inf')\n",
        "    cheapest_route = None\n",
        "\n",
        "    for i in range(len(cities)):\n",
        "        current_city = cities[i]\n",
        "        remaining_cities = cities[:i] + cities[i+1:]\n",
        "        current_route = [current_city]\n",
        "\n",
        "        while remaining_cities:\n",
        "            next_city = min(remaining_cities, key=lambda city: calculate_distance(current_route[-1], city))\n",
        "            current_route.append(next_city)\n",
        "            remaining_cities.remove(next_city)\n",
        "\n",
        "        total_cost = calculate_total_cost(current_route)\n",
        "\n",
        "        if total_cost < cheapest_cost:\n",
        "            cheapest_cost = total_cost\n",
        "            cheapest_route = current_route\n",
        "\n",
        "    return cheapest_route, cheapest_cost\n",
        "\n",
        "    return visited_cities, total_cost\n",
        "# 建立城市物件\n",
        "\n",
        "cities = [\n",
        "    City('A', 0, 0, 2000),\n",
        "    City('B', 0, 120, 2400),\n",
        "    City('C', 30, 100, 2400),\n",
        "    City('D', 80, 0, 1600),\n",
        "    City('E', 45, 10, 1500),\n",
        "    City('F', 90, 160, 2200),\n",
        "    City('G', 120, 200, 1200)\n",
        "]\n",
        "\n",
        "\n",
        "start_city = cities[0]\n",
        "\n",
        "travel_plan, total_cost = find_cheapest_travel_plan(start_city, cities)\n",
        "\n",
        "print(\"Travel Plan:\")\n",
        "for city in travel_plan:\n",
        "    print(city.name)\n",
        "\n",
        "print(\"Total Cost: \", total_cost)"
      ]
    }
  ]
}