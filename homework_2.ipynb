{
  "nbformat": 4,
  "nbformat_minor": 0,
  "metadata": {
    "colab": {
      "provenance": [],
      "include_colab_link": true
    },
    "kernelspec": {
      "name": "python3",
      "display_name": "Python 3"
    },
    "language_info": {
      "name": "python"
    }
  },
  "cells": [
    {
      "cell_type": "markdown",
      "metadata": {
        "id": "view-in-github",
        "colab_type": "text"
      },
      "source": [
        "<a href=\"https://colab.research.google.com/github/TIM921107/homework-1/blob/main/homework_2.ipynb\" target=\"_parent\"><img src=\"https://colab.research.google.com/assets/colab-badge.svg\" alt=\"Open In Colab\"/></a>"
      ]
    },
    {
      "cell_type": "code",
      "execution_count": null,
      "metadata": {
        "id": "zCMfDAJmo4rO"
      },
      "outputs": [],
      "source": [
        "a =' 大道之行也，天  下為公。 選賢與能，講信  修睦。故人不獨親其親，不獨子其子；使老有所終，壯有 所用，幼有 所長，矜寡孤獨廢疾者，皆有所養；男有分 女有歸。貨惡其棄 於地也不必藏於  己；力惡其不  出於身也不必為己。是故 謀閉而不興 ，盜竊亂賊而不作，故外戶而 不閉，是謂「大同」。'"
      ]
    },
    {
      "cell_type": "code",
      "source": [
        "print ( a )"
      ],
      "metadata": {
        "colab": {
          "base_uri": "https://localhost:8080/"
        },
        "id": "qR-uWlvZ7_1Z",
        "outputId": "67bb665f-4184-4a8f-a372-8e128b219ae4"
      },
      "execution_count": null,
      "outputs": [
        {
          "output_type": "stream",
          "name": "stdout",
          "text": [
            " 大道之行也，天  下為公。 選賢與能，講信  修睦。故人不獨親其親，不獨子其子；使老有所終，壯有 所用，幼有 所長，矜寡孤獨廢疾者，皆有所養；男有分 女有歸。貨惡其棄 於地也不必藏於  己；力惡其不  出於身也不必為己。是故 謀閉而不興 ，盜竊亂賊而不作，故外戶而 不閉，是謂「大同」。\n"
          ]
        }
      ]
    },
    {
      "cell_type": "code",
      "source": [
        "b = a.replace(\" \",\"\")"
      ],
      "metadata": {
        "id": "2ZxpxgyD2Mv_"
      },
      "execution_count": null,
      "outputs": []
    },
    {
      "cell_type": "code",
      "source": [
        "print ( b )"
      ],
      "metadata": {
        "colab": {
          "base_uri": "https://localhost:8080/"
        },
        "id": "JSqzqtEi2m8M",
        "outputId": "59e41461-634e-4e3a-d537-3cd72ee4c9a8"
      },
      "execution_count": null,
      "outputs": [
        {
          "output_type": "stream",
          "name": "stdout",
          "text": [
            "大道之行也，天下為公。選賢與能，講信修睦。故人不獨親其親，不獨子其子；使老有所終，壯有所用，幼有所長，矜寡孤獨廢疾者，皆有所養；男有分女有歸。貨惡其棄於地也不必藏於己；力惡其不出於身也不必為己。是故謀閉而不興，盜竊亂賊而不作，故外戶而不閉，是謂「大同」。\n"
          ]
        }
      ]
    },
    {
      "cell_type": "code",
      "source": [
        "print( len ( b ))"
      ],
      "metadata": {
        "colab": {
          "base_uri": "https://localhost:8080/"
        },
        "id": "sAMQLNQd2zdy",
        "outputId": "6175e9f0-1f99-490b-ac71-4c3ce1bdb0d4"
      },
      "execution_count": null,
      "outputs": [
        {
          "output_type": "stream",
          "name": "stdout",
          "text": [
            "127\n"
          ]
        }
      ]
    },
    {
      "cell_type": "code",
      "source": [
        "c = b.replace('，','，\\n').replace('。','。\\n').replace('；','；\\n')\n",
        "d = c.replace('，',',\\b').replace('。','。\\b').replace('；','；\\b')"
      ],
      "metadata": {
        "id": "qIXj999a4MTd"
      },
      "execution_count": null,
      "outputs": []
    },
    {
      "cell_type": "code",
      "source": [
        "print ( d )"
      ],
      "metadata": {
        "colab": {
          "base_uri": "https://localhost:8080/"
        },
        "id": "qQaHWA7d-a9L",
        "outputId": "57473081-90cd-461d-899f-e5b57769e4a7"
      },
      "execution_count": null,
      "outputs": [
        {
          "output_type": "stream",
          "name": "stdout",
          "text": [
            "大道之行也,\b\n",
            "天下為公。\b\n",
            "選賢與能,\b\n",
            "講信修睦。\b\n",
            "故人不獨親其親,\b\n",
            "不獨子其子；\b\n",
            "使老有所終,\b\n",
            "壯有所用,\b\n",
            "幼有所長,\b\n",
            "矜寡孤獨廢疾者,\b\n",
            "皆有所養；\b\n",
            "男有分女有歸。\b\n",
            "貨惡其棄於地也不必藏於己；\b\n",
            "力惡其不出於身也不必為己。\b\n",
            "是故謀閉而不興,\b\n",
            "盜竊亂賊而不作,\b\n",
            "故外戶而不閉,\b\n",
            "是謂「大同」。\b\n",
            "\n"
          ]
        }
      ]
    },
    {
      "cell_type": "code",
      "source": [
        "e = b.count('不')"
      ],
      "metadata": {
        "id": "Jm64ehM13Bca"
      },
      "execution_count": null,
      "outputs": []
    },
    {
      "cell_type": "code",
      "source": [
        "print ( e )"
      ],
      "metadata": {
        "colab": {
          "base_uri": "https://localhost:8080/"
        },
        "id": "kWhsU3M64DYo",
        "outputId": "85f1e235-34ff-48dd-8eda-4f86e49459a4"
      },
      "execution_count": null,
      "outputs": [
        {
          "output_type": "stream",
          "name": "stdout",
          "text": [
            "8\n"
          ]
        }
      ]
    }
  ]
}